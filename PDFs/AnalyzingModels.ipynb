{
 "cells": [
  {
   "cell_type": "markdown",
   "id": "dcdb4b82",
   "metadata": {},
   "source": [
    "# Analyzing the Models \n",
    "### Ranking the models for every weightclass\n",
    "### Ranking the feature importances for every weightclass"
   ]
  },
  {
   "cell_type": "code",
   "execution_count": 12,
   "id": "7b1fd63b",
   "metadata": {},
   "outputs": [],
   "source": [
    "import pandas as pd                  # Pandas\n",
    "import numpy as np                   # Numpy\n",
    "from matplotlib import pyplot as plt # Matplotlib\n",
    "\n",
    "# Package to implement AdaBoost\n",
    "import sklearn\n",
    "from sklearn.ensemble import AdaBoostClassifier\n",
    "\n",
    "# Package to implement Grid Search Cross Validation\n",
    "from sklearn.model_selection import train_test_split, cross_val_score, GridSearchCV, RandomizedSearchCV\n",
    "from sklearn.model_selection import StratifiedKFold\n",
    "\n",
    "# Package for generating confusion matrix\n",
    "from sklearn.metrics import plot_confusion_matrix\n",
    "\n",
    "# Package for generating classification report\n",
    "from sklearn.metrics import classification_report\n",
    "\n",
    "# Package to record time\n",
    "import time\n",
    "\n",
    "# Package for Data pretty printer\n",
    "from pprint import pprint\n",
    "\n",
    "%matplotlib inline\n",
    "\n",
    "import pickle\n"
   ]
  },
  {
   "cell_type": "markdown",
   "id": "abd89310",
   "metadata": {},
   "source": [
    "# FLYWEIGHT"
   ]
  },
  {
   "cell_type": "code",
   "execution_count": 13,
   "id": "7d9a6fca",
   "metadata": {},
   "outputs": [
    {
     "name": "stderr",
     "output_type": "stream",
     "text": [
      "C:\\Users\\Michael Cassetti\\anaconda3\\lib\\site-packages\\sklearn\\base.py:310: UserWarning: Trying to unpickle estimator DecisionTreeClassifier from version 0.23.1 when using version 0.24.2. This might lead to breaking code or invalid results. Use at your own risk.\n",
      "  warnings.warn(\n",
      "C:\\Users\\Michael Cassetti\\anaconda3\\lib\\site-packages\\sklearn\\base.py:310: UserWarning: Trying to unpickle estimator RandomForestClassifier from version 0.23.1 when using version 0.24.2. This might lead to breaking code or invalid results. Use at your own risk.\n",
      "  warnings.warn(\n",
      "C:\\Users\\Michael Cassetti\\anaconda3\\lib\\site-packages\\sklearn\\base.py:310: UserWarning: Trying to unpickle estimator GridSearchCV from version 0.23.1 when using version 0.24.2. This might lead to breaking code or invalid results. Use at your own risk.\n",
      "  warnings.warn(\n"
     ]
    }
   ],
   "source": [
    "flyweight_randomforest_model = pickle.load(open('flyweight_randomforest_pickle.sav', 'rb'))\n",
    "#flyweight_randomforest_model = pickle.load(open('flyweight_boosting_pickle.sav', 'rb'))\n",
    "#flyweight_randomforest_model = pickle.load(open('flyweight_trees_pickle.sav', 'rb'))\n",
    "\n",
    "test_X = pd.read_csv('flyweight_test_x.csv')\n",
    "test_y = pd.read_csv('flyweight_test_y.csv')\n",
    "#save csv file for test x and test y and then load the csv file"
   ]
  },
  {
   "cell_type": "code",
   "execution_count": 21,
   "id": "719b231d",
   "metadata": {},
   "outputs": [],
   "source": [
    "# Predictions on test set\n",
    "y_pred = flyweight_randomforest_model.predict(test_X)\n",
    "test_y = test_y['Winner']"
   ]
  },
  {
   "cell_type": "code",
   "execution_count": 24,
   "id": "94cbe0bd",
   "metadata": {},
   "outputs": [
    {
     "name": "stdout",
     "output_type": "stream",
     "text": [
      "                         Feature  Importance\n",
      "0                     b_sub_odds    0.050253\n",
      "1                          B_age    0.037094\n",
      "2                     b_dec_odds    0.036304\n",
      "3                         B_odds    0.029670\n",
      "4                avg_sub_att_dif    0.027830\n",
      "..                           ...         ...\n",
      "71  R_win_by_TKO_Doctor_Stoppage    0.000000\n",
      "72  B_win_by_TKO_Doctor_Stoppage    0.000000\n",
      "73                        R_draw    0.000000\n",
      "74    B_win_by_Decision_Majority    0.000000\n",
      "75    R_win_by_Decision_Majority    0.000000\n",
      "\n",
      "[76 rows x 2 columns]\n"
     ]
    }
   ],
   "source": [
    "# Predictions on test set\n",
    "y_pred = flyweight_randomforest_model.predict(test_X)\n",
    "\n",
    "# Getting prediction probabilites\n",
    "prob = flyweight_randomforest_model.predict_proba(test_X)\n",
    "\n",
    "# Printing prediction results\n",
    "result = pd.DataFrame({'Actual': test_y, 'Predicted': y_pred})\n",
    "\n",
    "# Creating columns for rejection and acceptance prob.\n",
    "result[['Prob. of 0','Prob. of 1']] = pd.DataFrame(prob.tolist(), index = result.index)\n",
    "\n",
    "# Saving dataframe as a csv file\n",
    "#result.to_csv('Prediction Results.csv', index = False)\n",
    "\n",
    "# Storing importance values from the best fit model\n",
    "importance = flyweight_randomforest_model.best_estimator_.feature_importances_\n",
    "\n",
    "# Displaying feature importance as a dataframe\n",
    "feature_imp = pd.DataFrame(list(zip(test_X.columns, importance)),\n",
    "               columns = ['Feature', 'Importance'])\n",
    "\n",
    "flyweight_randomforest_feature_imp = feature_imp.sort_values('Importance', ascending = False).reset_index(drop = True)\n",
    "print(flyweight_randomforest_feature_imp)"
   ]
  },
  {
   "cell_type": "code",
   "execution_count": null,
   "id": "0e367cf4",
   "metadata": {},
   "outputs": [],
   "source": []
  }
 ],
 "metadata": {
  "kernelspec": {
   "display_name": "Python 3 (ipykernel)",
   "language": "python",
   "name": "python3"
  },
  "language_info": {
   "codemirror_mode": {
    "name": "ipython",
    "version": 3
   },
   "file_extension": ".py",
   "mimetype": "text/x-python",
   "name": "python",
   "nbconvert_exporter": "python",
   "pygments_lexer": "ipython3",
   "version": "3.9.7"
  }
 },
 "nbformat": 4,
 "nbformat_minor": 5
}
